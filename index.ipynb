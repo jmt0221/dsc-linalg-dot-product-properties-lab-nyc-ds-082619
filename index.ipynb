{
 "cells": [
  {
   "cell_type": "markdown",
   "metadata": {},
   "source": [
    "# Properties of Dot Product - Lab\n",
    "\n",
    "## Introduction\n",
    "\n",
    "In this lab, you'll be practicing some interesting properties of a Dot Product-type matrix multiplication. Understanding these properties will become useful as you move forward with machine learning. The lab will require you to calculate results to provide a proof for these properties.\n",
    "\n",
    "## Objectives\n",
    "You will be able to:\n",
    "* Understand and analytically explain Distributive, Commutative and Associative properties of dot product\n",
    "\n",
    "## Instructions\n",
    "\n",
    "* For each property, create suitably sized matrices with random data and prove the equations \n",
    "* Ensure that size/dimension assumptions are met while performing calculations (you'll see errors otherwise)\n",
    "* Calculate the LHS and RHS for all equations and show if they are equal or not\n",
    "\n",
    "## Distributive Property - matrix multiplication is distributive\n",
    "\n",
    "### Prove that $A \\cdot (B+C) = (A \\cdot B + A \\cdot C) $"
   ]
  },
  {
   "cell_type": "code",
   "execution_count": 1,
   "metadata": {},
   "outputs": [],
   "source": [
    "# Your code here\n",
    "import numpy as np"
   ]
  },
  {
   "cell_type": "code",
   "execution_count": 6,
   "metadata": {},
   "outputs": [],
   "source": [
    "A = np.array([[1, 2, 3], [4, 5, 6], [7, 8, 9]])\n",
    "B = np.array([[7, 3, 1], [8, 4,9], [13,8,4]])\n",
    "C = np.array([[8, 4, 5], [2, 12, 9], [11, 6, 13]])"
   ]
  },
  {
   "cell_type": "code",
   "execution_count": 10,
   "metadata": {},
   "outputs": [
    {
     "data": {
      "text/plain": [
       "array([[ True,  True,  True],\n",
       "       [ True,  True,  True],\n",
       "       [ True,  True,  True]])"
      ]
     },
     "execution_count": 10,
     "metadata": {},
     "output_type": "execute_result"
    }
   ],
   "source": [
    "left = A.dot(B+C)\n",
    "right = A.dot(B) + A.dot(C)\n",
    "left == right"
   ]
  },
  {
   "cell_type": "markdown",
   "metadata": {},
   "source": [
    "## Associative Property - matrix multiplication is associative\n",
    "### Prove that $A \\cdot (B \\cdot C) = (A \\cdot B) \\cdot C $"
   ]
  },
  {
   "cell_type": "code",
   "execution_count": 14,
   "metadata": {},
   "outputs": [
    {
     "data": {
      "text/plain": [
       "array([[ True,  True,  True],\n",
       "       [ True,  True,  True],\n",
       "       [ True,  True,  True]])"
      ]
     },
     "execution_count": 14,
     "metadata": {},
     "output_type": "execute_result"
    }
   ],
   "source": [
    "# Your code here \n",
    "A.dot(B.dot(C)) == A.dot(B).dot(C)"
   ]
  },
  {
   "cell_type": "markdown",
   "metadata": {},
   "source": [
    "## Commutative Property - matrix multiplication is NOT commutative\n",
    "### Prove that for matrices, $A \\cdot B \\neq B \\cdot A $"
   ]
  },
  {
   "cell_type": "code",
   "execution_count": 15,
   "metadata": {},
   "outputs": [
    {
     "data": {
      "text/plain": [
       "array([[ True,  True,  True],\n",
       "       [ True,  True,  True],\n",
       "       [ True,  True,  True]])"
      ]
     },
     "execution_count": 15,
     "metadata": {},
     "output_type": "execute_result"
    }
   ],
   "source": [
    "# Your code here \n",
    "A.dot(B) != B.dot(A)"
   ]
  },
  {
   "cell_type": "markdown",
   "metadata": {},
   "source": [
    "## Commutative Property -  vector multiplication IS commutative\n",
    "### Prove that for vectors,  $x^T \\cdot y = y^T \\cdot x$\n",
    "Note: superscipt<sup>T</sup> denotes the transpose we saw earlier"
   ]
  },
  {
   "cell_type": "code",
   "execution_count": 16,
   "metadata": {},
   "outputs": [],
   "source": [
    "# Your code here \n",
    "x = np.array([1,2,3,4])\n",
    "y = np.array([5,7,2,5])"
   ]
  },
  {
   "cell_type": "code",
   "execution_count": 18,
   "metadata": {},
   "outputs": [
    {
     "data": {
      "text/plain": [
       "True"
      ]
     },
     "execution_count": 18,
     "metadata": {},
     "output_type": "execute_result"
    }
   ],
   "source": [
    "x.T.dot(y) == y.T.dot(x)"
   ]
  },
  {
   "cell_type": "markdown",
   "metadata": {},
   "source": [
    "## Simplification of the matrix product\n",
    "### Prove that $ (A \\cdot B)^T = B^T \\cdot A^T $"
   ]
  },
  {
   "cell_type": "code",
   "execution_count": 19,
   "metadata": {},
   "outputs": [
    {
     "data": {
      "text/plain": [
       "array([[ True,  True,  True],\n",
       "       [ True,  True,  True],\n",
       "       [ True,  True,  True]])"
      ]
     },
     "execution_count": 19,
     "metadata": {},
     "output_type": "execute_result"
    }
   ],
   "source": [
    "# Your code here \n",
    "A.dot(B).T == B.T.dot(A.T)"
   ]
  },
  {
   "cell_type": "markdown",
   "metadata": {},
   "source": [
    "## Summary \n",
    "\n",
    "You've seen enough matrix algebra by now to solve a problem of linear equations as you saw earlier. You'll now see how to do this next. "
   ]
  }
 ],
 "metadata": {
  "kernelspec": {
   "display_name": "Python 3",
   "language": "python",
   "name": "python3"
  },
  "language_info": {
   "codemirror_mode": {
    "name": "ipython",
    "version": 3
   },
   "file_extension": ".py",
   "mimetype": "text/x-python",
   "name": "python",
   "nbconvert_exporter": "python",
   "pygments_lexer": "ipython3",
   "version": "3.6.6"
  }
 },
 "nbformat": 4,
 "nbformat_minor": 2
}
